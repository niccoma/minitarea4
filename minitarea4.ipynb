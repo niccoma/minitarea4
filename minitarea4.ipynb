{
  "nbformat": 4,
  "nbformat_minor": 0,
  "metadata": {
    "colab": {
      "name": "Actividad 4 - Extragaláctico.ipynb",
      "version": "0.3.2",
      "provenance": [],
      "include_colab_link": true
    },
    "kernelspec": {
      "name": "python2",
      "display_name": "Python 2"
    }
  },
  "cells": [
    {
      "cell_type": "markdown",
      "metadata": {
        "id": "view-in-github",
        "colab_type": "text"
      },
      "source": [
        "<a href=\"https://colab.research.google.com/github/niccoma/minitarea4/blob/master/minitarea4.ipynb\" target=\"_parent\"><img src=\"https://colab.research.google.com/assets/colab-badge.svg\" alt=\"Open In Colab\"/></a>"
      ]
    },
    {
      "metadata": {
        "id": "2btHIAg5WJh_",
        "colab_type": "text"
      },
      "cell_type": "markdown",
      "source": [
        "#EI2001 : Ciencia de Datos en Astronomía\n",
        "**Profesores:** Pía Cortés, Daniela Barrientos, Matías Mattamala, Matías Suazo\n",
        "\n",
        "##Minitarea 4: Análisis de Cubo de datos extragaláctico y querys.\n",
        "\n",
        "###Objetivos:\n",
        "1. Utilizar el paquete **astropy** para trabajar con unidades de medidas, coordenadas y fits.\n",
        "2. Utilizar datos del google drive personal de cada uno.\n",
        "3. Lectura de archivos *fits* en objetos extragalácticos en forma de cubo de datos.\n",
        "4. Utilizar el paquete **astroquery** para hacer query de objetos del SDSS.\n",
        "\n"
      ]
    },
    {
      "metadata": {
        "id": "yeJpfPmsJhZb",
        "colab_type": "text"
      },
      "cell_type": "markdown",
      "source": [
        "###Instrucciones:\n",
        "\n",
        "1. Lean cuidadosamente todo lo que viene ahora\n",
        "2. Para hacer esta tarea deben que hacer un **fork** del repositorio en sus cuentas de GitHub.\n",
        "3. Abrir [Google Colab](https://colab.research.google.com/) y seleccionar \"abrir un archivo desde GitHub\". Deben seleccionar su cuenta Github y escoger el repositorio que corresponde al fork que hicieron.\n",
        "4. Si todo sale bien, debería abrirse una copia de este notebook en su cuenta de Google Colab.\n",
        "5. Se adjuntan 6 mini actividades a completar. **TODAS** son necesarias y deben completar lo que se va pidiendo.\n",
        "6. Cada vez que completen un ítem, deben guardar un avance en su fork de GitHub, de modo de **respaldar cada avance significativo**. Usen comentarios coherentes con cada respaldo \"Sección 1 completa\", \"Tarea terminada\", no solamente el que pone por defecto.\n",
        "\n",
        "\n"
      ]
    },
    {
      "metadata": {
        "id": "_Gu80PUvKfyP",
        "colab_type": "text"
      },
      "cell_type": "markdown",
      "source": [
        "#1. FITS en Google Drive.\n",
        "\n",
        "En el siguiente enlace [(link)](https://docs.google.com/spreadsheets/d/1lT4h9Evwm6i2SBeuCK5dESTm8FijVZX7r6ixq-dt3ZM/edit#gid=0) se encuentra un excel con 30 galaxias observadas con CALIFA usando la técnica de Integral Field Spectroscopy (IFS). Debe escoger una galaxia que se encuentre disponible anotando su nombre en la casilla correspondiente a la galaxia que desee escoger (**No puede elegir una ya escojida por alguien más**). A cada galaxia le corresponde un link con el cual se pueden descargar los datos obtenidos por CALIFA para dicha galaxia en un cubo de datos **fits.gz**.\n",
        "\n",
        "Descargue el archivo correspondiente y súbalo a la cuenta de Google Drive vinculada con la cuenta de Google que utiliza para trabajar con [Google Colab](https://colab.research.google.com/). Asegúrese que el archivo de descarga corresponde con la galaxia seleccionada, en caso contrario hágalo saber al equipo docente.\n",
        "\n",
        "Ahora importe los paquetes y funciones necesarias vistas en clases para poder montar su unidad de Google drive. Si lo hace correctamente debiese aparecer un mensaje. Verifique que se muestra al correr esas líneas de código."
      ]
    },
    {
      "metadata": {
        "id": "HTnTHCBzUUx3",
        "colab_type": "code",
        "colab": {
          "base_uri": "https://localhost:8080/",
          "height": 927
        },
        "outputId": "53ddc12f-e31f-4896-e21f-6ba455339834"
      },
      "cell_type": "code",
      "source": [
        "import numpy as np\n",
        "import matplotlib.pyplot as plt\n",
        "from astropy import units as u\n",
        "from astropy.coordinates import SkyCoord\n",
        "from google.colab import drive\n",
        "drive.mount('/content/gdrive')\n",
        "from astropy.io import fits\n",
        "from astropy.wcs import WCS\n",
        "!pip install astroquery\n",
        "from astroquery.sdss import SDSS\n",
        "\n"
      ],
      "execution_count": 1,
      "outputs": [
        {
          "output_type": "stream",
          "text": [
            "Go to this URL in a browser: https://accounts.google.com/o/oauth2/auth?client_id=947318989803-6bn6qk8qdgf4n4g3pfee6491hc0brc4i.apps.googleusercontent.com&redirect_uri=urn%3Aietf%3Awg%3Aoauth%3A2.0%3Aoob&scope=email%20https%3A%2F%2Fwww.googleapis.com%2Fauth%2Fdocs.test%20https%3A%2F%2Fwww.googleapis.com%2Fauth%2Fdrive%20https%3A%2F%2Fwww.googleapis.com%2Fauth%2Fdrive.photos.readonly%20https%3A%2F%2Fwww.googleapis.com%2Fauth%2Fpeopleapi.readonly&response_type=code\n",
            "\n",
            "Enter your authorization code:\n",
            "··········\n",
            "Mounted at /content/gdrive\n",
            "Collecting astroquery\n",
            "\u001b[?25l  Downloading https://files.pythonhosted.org/packages/61/50/a7a08f9e54d7d9d97e69433cd88231e1ad2901811c9d1ae9ac7ccaef9396/astroquery-0.3.9.tar.gz (4.2MB)\n",
            "\u001b[K    100% |████████████████████████████████| 4.2MB 4.8MB/s \n",
            "\u001b[?25hRequirement already satisfied: astropy>=1.0 in /usr/local/lib/python2.7/dist-packages (from astroquery) (2.0.12)\n",
            "Requirement already satisfied: requests>=2.4.3 in /usr/local/lib/python2.7/dist-packages (from astroquery) (2.18.4)\n",
            "Collecting keyring>=4.0 (from astroquery)\n",
            "  Downloading https://files.pythonhosted.org/packages/cb/97/351c4839d78c518d8784822ec6f48f601de5cf47ab21242c0a6e5da888cc/keyring-18.0.1-py2.py3-none-any.whl\n",
            "Requirement already satisfied: beautifulsoup4>=4.3.2 in /usr/local/lib/python2.7/dist-packages (from astroquery) (4.6.3)\n",
            "Requirement already satisfied: html5lib>=0.999 in /usr/local/lib/python2.7/dist-packages (from astroquery) (1.0.1)\n",
            "Requirement already satisfied: pytest<3.7,>=2.8 in /usr/local/lib/python2.7/dist-packages (from astropy>=1.0->astroquery) (3.6.4)\n",
            "Requirement already satisfied: numpy>=1.9.0 in /usr/local/lib/python2.7/dist-packages (from astropy>=1.0->astroquery) (1.14.6)\n",
            "Requirement already satisfied: idna<2.7,>=2.5 in /usr/local/lib/python2.7/dist-packages (from requests>=2.4.3->astroquery) (2.6)\n",
            "Requirement already satisfied: urllib3<1.23,>=1.21.1 in /usr/local/lib/python2.7/dist-packages (from requests>=2.4.3->astroquery) (1.22)\n",
            "Requirement already satisfied: certifi>=2017.4.17 in /usr/local/lib/python2.7/dist-packages (from requests>=2.4.3->astroquery) (2019.3.9)\n",
            "Requirement already satisfied: chardet<3.1.0,>=3.0.2 in /usr/local/lib/python2.7/dist-packages (from requests>=2.4.3->astroquery) (3.0.4)\n",
            "Requirement already satisfied: entrypoints in /usr/local/lib/python2.7/dist-packages (from keyring>=4.0->astroquery) (0.3)\n",
            "Collecting secretstorage<3; (sys_platform == \"linux2\" or sys_platform == \"linux\") and python_version < \"3.5\" (from keyring>=4.0->astroquery)\n",
            "  Downloading https://files.pythonhosted.org/packages/a5/a5/0830cfe34a4cfd0d1c3c8b614ede1edb2aaf999091ac8548dd19cb352e79/SecretStorage-2.3.1.tar.gz\n",
            "Requirement already satisfied: six>=1.9 in /usr/local/lib/python2.7/dist-packages (from html5lib>=0.999->astroquery) (1.11.0)\n",
            "Requirement already satisfied: webencodings in /usr/local/lib/python2.7/dist-packages (from html5lib>=0.999->astroquery) (0.5.1)\n",
            "Requirement already satisfied: setuptools in /usr/local/lib/python2.7/dist-packages (from pytest<3.7,>=2.8->astropy>=1.0->astroquery) (40.9.0)\n",
            "Requirement already satisfied: py>=1.5.0 in /usr/local/lib/python2.7/dist-packages (from pytest<3.7,>=2.8->astropy>=1.0->astroquery) (1.8.0)\n",
            "Requirement already satisfied: more-itertools>=4.0.0 in /usr/local/lib/python2.7/dist-packages (from pytest<3.7,>=2.8->astropy>=1.0->astroquery) (5.0.0)\n",
            "Requirement already satisfied: funcsigs; python_version < \"3.0\" in /usr/local/lib/python2.7/dist-packages (from pytest<3.7,>=2.8->astropy>=1.0->astroquery) (1.0.2)\n",
            "Requirement already satisfied: attrs>=17.4.0 in /usr/local/lib/python2.7/dist-packages (from pytest<3.7,>=2.8->astropy>=1.0->astroquery) (19.1.0)\n",
            "Requirement already satisfied: atomicwrites>=1.0 in /usr/local/lib/python2.7/dist-packages (from pytest<3.7,>=2.8->astropy>=1.0->astroquery) (1.3.0)\n",
            "Requirement already satisfied: pluggy<0.8,>=0.5 in /usr/local/lib/python2.7/dist-packages (from pytest<3.7,>=2.8->astropy>=1.0->astroquery) (0.7.1)\n",
            "Requirement already satisfied: configparser>=3.5; python_version == \"2.7\" in /usr/local/lib/python2.7/dist-packages (from entrypoints->keyring>=4.0->astroquery) (3.7.4)\n",
            "Collecting cryptography (from secretstorage<3; (sys_platform == \"linux2\" or sys_platform == \"linux\") and python_version < \"3.5\"->keyring>=4.0->astroquery)\n",
            "\u001b[?25l  Downloading https://files.pythonhosted.org/packages/c3/c1/cf8665c955c9393e9ff0872ba6cd3dc6f46ef915e94afcf6e0410508ca69/cryptography-2.6.1-cp27-cp27mu-manylinux1_x86_64.whl (2.3MB)\n",
            "\u001b[K    100% |████████████████████████████████| 2.3MB 9.5MB/s \n",
            "\u001b[?25hCollecting asn1crypto>=0.21.0 (from cryptography->secretstorage<3; (sys_platform == \"linux2\" or sys_platform == \"linux\") and python_version < \"3.5\"->keyring>=4.0->astroquery)\n",
            "\u001b[?25l  Downloading https://files.pythonhosted.org/packages/ea/cd/35485615f45f30a510576f1a56d1e0a7ad7bd8ab5ed7cdc600ef7cd06222/asn1crypto-0.24.0-py2.py3-none-any.whl (101kB)\n",
            "\u001b[K    100% |████████████████████████████████| 102kB 26.8MB/s \n",
            "\u001b[?25hRequirement already satisfied: enum34; python_version < \"3\" in /usr/local/lib/python2.7/dist-packages (from cryptography->secretstorage<3; (sys_platform == \"linux2\" or sys_platform == \"linux\") and python_version < \"3.5\"->keyring>=4.0->astroquery) (1.1.6)\n",
            "Requirement already satisfied: ipaddress; python_version < \"3\" in /usr/local/lib/python2.7/dist-packages (from cryptography->secretstorage<3; (sys_platform == \"linux2\" or sys_platform == \"linux\") and python_version < \"3.5\"->keyring>=4.0->astroquery) (1.0.22)\n",
            "Requirement already satisfied: cffi!=1.11.3,>=1.8 in /usr/local/lib/python2.7/dist-packages (from cryptography->secretstorage<3; (sys_platform == \"linux2\" or sys_platform == \"linux\") and python_version < \"3.5\"->keyring>=4.0->astroquery) (1.12.2)\n",
            "Requirement already satisfied: pycparser in /usr/local/lib/python2.7/dist-packages (from cffi!=1.11.3,>=1.8->cryptography->secretstorage<3; (sys_platform == \"linux2\" or sys_platform == \"linux\") and python_version < \"3.5\"->keyring>=4.0->astroquery) (2.19)\n",
            "Building wheels for collected packages: astroquery, secretstorage\n",
            "  Building wheel for astroquery (setup.py) ... \u001b[?25ldone\n",
            "\u001b[?25h  Stored in directory: /root/.cache/pip/wheels/8a/d1/1e/4124d9ef35e2bbfbaa284c97dd49d9babbab42d966c4bea190\n",
            "  Building wheel for secretstorage (setup.py) ... \u001b[?25ldone\n",
            "\u001b[?25h  Stored in directory: /root/.cache/pip/wheels/4e/5b/1b/be8c8a830a0243af85b2946a0aece2c6743d7f7f946977ed67\n",
            "Successfully built astroquery secretstorage\n",
            "Installing collected packages: asn1crypto, cryptography, secretstorage, keyring, astroquery\n",
            "Successfully installed asn1crypto-0.24.0 astroquery-0.3.9 cryptography-2.6.1 keyring-18.0.1 secretstorage-2.3.1\n"
          ],
          "name": "stdout"
        },
        {
          "output_type": "stream",
          "text": [
            "/usr/local/lib/python2.7/dist-packages/astroquery/sdss/__init__.py:29: UserWarning: Experimental: SDSS has not yet been refactored to have its API match the rest of astroquery (but it's nearly there).\n",
            "  warnings.warn(\"Experimental: SDSS has not yet been refactored to have its API \"\n"
          ],
          "name": "stderr"
        }
      ]
    },
    {
      "metadata": {
        "id": "3dRBo_5rVaIc",
        "colab_type": "text"
      },
      "cell_type": "markdown",
      "source": [
        "# 2. Visualización de la Galaxia \n",
        "\n",
        "En esta parte debe hacer lectura del cubo de datos **fits.gz** que se encuentra guardado en su Google Drive. Importe todos los paquetes que sean necesarios, no olvide leer el header (Ya sea en su forma normal o en WCS) e imprímalo en pantalla."
      ]
    },
    {
      "metadata": {
        "id": "CGvtX_eLVpRg",
        "colab_type": "code",
        "colab": {
          "base_uri": "https://localhost:8080/",
          "height": 185
        },
        "outputId": "2370c3dd-c3c1-4be9-d8f6-007d544d0c7c"
      },
      "cell_type": "code",
      "source": [
        "filename = ('/content/gdrive/My Drive/Colab Notebooks/NGC0499.V500.rscube.fits.gz') \n",
        "hdu_fits = fits.open(filename)\n",
        "hdu = fits.open(filename)[0] \n",
        "header = hdu.header\n",
        "wcs = WCS(header)\n",
        "print wcs"
      ],
      "execution_count": 2,
      "outputs": [
        {
          "output_type": "stream",
          "text": [
            "WCS Keywords\n",
            "\n",
            "Number of WCS axes: 3\n",
            "CTYPE : 'RA---TAN'  'DEC--TAN'  'WAVELENGTH'  \n",
            "CRVAL : 20.79737941022215  33.46051138070411  3749.0  \n",
            "CRPIX : 37.0  33.0  1.0  \n",
            "CD1_1 CD1_2 CD1_3  : -0.00027777777777777  0.0  0.0  \n",
            "CD2_1 CD2_2 CD2_3  : 0.0  0.000277777777777777  0.0  \n",
            "CD3_1 CD3_2 CD3_3  : 0.0  0.0  2.0  \n",
            "NAXIS : 78  73  1877\n"
          ],
          "name": "stdout"
        }
      ]
    },
    {
      "metadata": {
        "id": "FPoTRrVsXK-i",
        "colab_type": "text"
      },
      "cell_type": "markdown",
      "source": [
        "Ahora haga un subplot que contemple 4 imágenes de la galaxia en 4 diferentes longitudes de onda de todo el espectro observado. Usted debe escoger estas cuatro longitudes de onda como se le antoje. Puede enchular los gráficos tanto como desee, es importante eso sí que todos contengan la información básica necesaria para que pueda ser visualizada científicamente. Recuerde importar los paquetes necesarios en caso de no haberlo hecho en algún bloque anterior.\n",
        "\n",
        "**Consejo**: Dentro de las longitudes de onda, se sugiere que escoja una cercana a los 6563 Angstrom."
      ]
    },
    {
      "metadata": {
        "id": "s98YFlc6qGcC",
        "colab_type": "code",
        "colab": {
          "base_uri": "https://localhost:8080/",
          "height": 365
        },
        "outputId": "faf07630-0fbb-4808-c054-220568e706ea"
      },
      "cell_type": "code",
      "source": [
        "data = hdu.data\n",
        "units = header['HIERARCH PIPE UNITS']\n",
        "\n",
        "delt1 = np.arange(0,header['NAXIS1']) - (header['CRPIX1']-1)\n",
        "step1 = delt1*header['CD1_1']\n",
        "ra = step1 + header['CRVAL1']\n",
        "\n",
        "delt2 = np.arange(0,header['NAXIS2']) - (header['CRPIX2']-1)\n",
        "step2 = delt2*header['CD2_2']\n",
        "dec = step2 + header['CRVAL2']\n",
        "\n",
        "delt3 = np.arange(0,header['NAXIS3'])\n",
        "step3 = delt3*header['CD3_3']\n",
        "lo = step3 + header['CRVAL3']\n",
        "\n",
        "plt.imshow(data[1],cmap='inferno',origin='lower',vmin=0,vmax=1)\n",
        "plt.xticks((0,20,40,60),(round(ra[0],3),round(ra[20],3),round(ra[40],3),round(ra[60],3))) #xticks, tupla con numeros originales, tupla con nuevos digitos\n",
        "plt.yticks((0,20,40,60),(round(dec[0],3),round(dec[20],3),round(dec[40],3),round(dec[60],3))) #yticks, tupla con numeros originales, tupla con nuevos digitos\n",
        "plt.xlabel('RA [deg]')\n",
        "plt.ylabel('DEC [deg]')\n",
        "plt.grid(b=None) \n",
        "cb = plt.colorbar()\n",
        "cb.set_label('Flux [10$^{-16}$ erg/s/cm$^2$/$\\AA$]')"
      ],
      "execution_count": 4,
      "outputs": [
        {
          "output_type": "display_data",
          "data": {
            "image/png": "[encoded data removed]",
            "text/plain": [
              "<Figure size 576x396 with 2 Axes>"
            ]
          },
          "metadata": {
            "tags": []
          }
        }
      ]
    },
    {
      "metadata": {
        "id": "laGyqlSaK-zp",
        "colab_type": "text"
      },
      "cell_type": "markdown",
      "source": [
        "#3. Espectros de la Galaxia\n",
        "\n",
        "Como saben, a cada pixel le corresponde un espectro. Ahora haga un subplot que contemple el espectro de 9 pixeles de la galaxia. 8 de los 9 pixeles deben ser escogidos al azar, mientras que uno de ellos debe corresponder al espectro de los pixeles de referencia que el header indica. Puede enchular los gráficos tanto como desee, es importante eso sí que todos contengan la información básica necesaria para que pueda ser visualizada científicamente. Recuerde importar los paquetes necesarios en caso de no haberlo hecho en algún bloque anterior.\n",
        "\n",
        "Finalmente calcule el redshift al cual se encuentra el objeto, para ello puede indentificar las líneas de los espectros obtenidos en esta [página](http://skyserver.sdss.org/dr15/en/tools/chart/navi.aspx). El cálculo del redshift debe hacerse con la información de los espectros del fits. Ignore la rotación de la galaxia. \n",
        "\n",
        "**Hint:** Le puede ser útil saber que la línea de H$\\alpha$ se encuentra centrada en 6563 Angstroms. La longitud de onda de las primeras líneas de la serie de Balmer las puede encontrar en [aquí](https://es.wikipedia.org/wiki/L%C3%ADneas_de_Balmer). Imprima en pantalla la operación a realizar y que línea o líneas usó para determinar el redshift al cual se encuentra la galaxia."
      ]
    },
    {
      "metadata": {
        "id": "inm_DLjOK7ul",
        "colab_type": "code",
        "colab": {}
      },
      "cell_type": "code",
      "source": [
        ""
      ],
      "execution_count": 0,
      "outputs": []
    },
    {
      "metadata": {
        "id": "aVFBwLo3Oe3V",
        "colab_type": "text"
      },
      "cell_type": "markdown",
      "source": [
        "#4. Coordenadas\n",
        "\n",
        "En esta parte deben crear una variable que contenga un objeto SkyCoord definido con los dos últimos dígitos de rut como ascención recta y declinación en el sistema ICRS (No contar el dígito verificador).\n",
        "\n",
        "**Ejemplo:** si su RUT es 12.345.678 - 9. La ascención recta y declinación para ese objeto debe ser 78°. Si los úlitmos dos dígitos son mayores que noventa, utilice solo el último."
      ]
    },
    {
      "metadata": {
        "id": "_qHOe4Ypi8p1",
        "colab_type": "code",
        "colab": {}
      },
      "cell_type": "code",
      "source": [
        ""
      ],
      "execution_count": 0,
      "outputs": []
    },
    {
      "metadata": {
        "id": "K8AmrG93ZVxP",
        "colab_type": "text"
      },
      "cell_type": "markdown",
      "source": [
        "#5. Query: Imagen\n",
        "\n",
        "En esta parte haga un query a los datos del SDSS utilizando como coordenadas las definidas anteriormente en una región de radio 10 arcsec, además, asegúrese que los objetos de la busqueda cuentan con un espectro. En caso de no encontrar algo, multiplique el radio por 2 hasta encontrar un objeto. Extraiga el espectro y la fotometría en las bandas z e i.\n",
        "\n",
        "Imprima en pantalla el WCS header de alguno de los fits fotometría, y proceda a graficar las regiones mostradas en los dos fits fotométricos descargados. Puede enchular los gráficos tanto como desee, es importante eso sí que todos contengan la información básica necesaria para que pueda ser visualizada científicamente. Como los datos son del SDSS, ustedes encontraran una imagen de la placa entera, hagan un zoom mostrando de forma cercana el objeto que les debiese haber salido al azar, queda a su criterio cuanto deben ampliar la imagen ustedes."
      ]
    },
    {
      "metadata": {
        "id": "hqnyKnO2i9U0",
        "colab_type": "code",
        "colab": {}
      },
      "cell_type": "code",
      "source": [
        ""
      ],
      "execution_count": 0,
      "outputs": []
    },
    {
      "metadata": {
        "id": "mI08c4RofCkz",
        "colab_type": "text"
      },
      "cell_type": "markdown",
      "source": [
        "#6. Query: Espectro\n",
        "\n",
        "En esta parte haga un gráfico con los datos espectroscópicos del objeto encontrado. Imprima en pantalla el WCS header. Puede enchular los gráficos tanto como desee, es importante eso sí que todos contengan la información básica necesaria para que pueda ser visualizada científicamente. Compare el objeto con el encontrado en esta [página](http://skyserver.sdss.org/dr15/en/tools/chart/navi.aspx), identifique las líneas y hagan que se vean en el espectro bien señalizadas."
      ]
    },
    {
      "metadata": {
        "id": "30iDcoQrfBEr",
        "colab_type": "code",
        "colab": {}
      },
      "cell_type": "code",
      "source": [
        ""
      ],
      "execution_count": 0,
      "outputs": []
    }
  ]
}